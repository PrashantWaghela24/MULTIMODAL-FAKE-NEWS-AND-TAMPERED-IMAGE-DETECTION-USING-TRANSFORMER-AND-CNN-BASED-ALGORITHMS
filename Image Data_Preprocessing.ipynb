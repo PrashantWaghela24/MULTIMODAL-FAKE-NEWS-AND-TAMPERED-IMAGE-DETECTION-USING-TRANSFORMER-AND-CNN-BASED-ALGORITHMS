{
 "cells": [
  {
   "cell_type": "code",
   "execution_count": 19,
   "id": "1b7a9120",
   "metadata": {},
   "outputs": [
    {
     "name": "stdout",
     "output_type": "stream",
     "text": [
      "   index  image_number       domain  \\\n",
      "0      0             0    i.redd.it   \n",
      "1      1             1  i.imgur.com   \n",
      "2      2             2    i.redd.it   \n",
      "3      3             3    i.redd.it   \n",
      "4      4             4  i.imgur.com   \n",
      "\n",
      "                                             img_url  \\\n",
      "0  https://preview.redd.it/l0ga0tug17k31.jpg?widt...   \n",
      "1  https://external-preview.redd.it/VX7bXDu9Gl8UZ...   \n",
      "2  https://preview.redd.it/bxp58zf01zy21.jpg?widt...   \n",
      "3  https://preview.redd.it/ipfrolruml411.jpg?widt...   \n",
      "4  https://external-preview.redd.it/FPz_jid8GIOdf...   \n",
      "\n",
      "                                          news_title  is_fake  \n",
      "0                         My Xbox controller says hi        1  \n",
      "1           PsBattle: New image from The Mandalorian        1  \n",
      "2            This tree I found with a solo cup on it        1  \n",
      "3  Dude, I'd feel the same if I got a pole throug...        0  \n",
      "4                 PsBattle: Japanese Black Pine tree        1  \n"
     ]
    }
   ],
   "source": [
    "from PIL import Image\n",
    "Image.MAX_IMAGE_PIXELS = 1000000000    \n",
    "import os\n",
    "import pandas as pd\n",
    "\n",
    "df = pd.read_csv('/Users/prashantwaghela/Desktop/FakeNewsDataset/multimodal_only_samples/FinalCleanData.csv')\n",
    "print(df.head())"
   ]
  },
  {
   "cell_type": "code",
   "execution_count": 11,
   "id": "1d7939d4",
   "metadata": {},
   "outputs": [
    {
     "name": "stdout",
     "output_type": "stream",
     "text": [
      "JPEG\n",
      "size: (320, 569)\n",
      "image mode: RGB\n"
     ]
    }
   ],
   "source": [
    "#Test case\n",
    "\n",
    "img_path=\"/Users/prashantwaghela/Desktop/FakeNewsDataset/multimodal_only_samples/images/train/true/image-0.jpg\"\n",
    "\n",
    "im=Image.open(img_path)\n",
    "print('{}'.format(im.format))\n",
    "print('size: {}'.format(im.size))\n",
    "print('image mode: {}'.format(im.mode))\n",
    "im.show()"
   ]
  },
  {
   "cell_type": "code",
   "execution_count": 12,
   "id": "ca618017",
   "metadata": {},
   "outputs": [],
   "source": [
    "#Image preprocessing by Resizing and storing in local system\n",
    "\n",
    "files_testt=os.listdir(\"/Users/prashantwaghela/Desktop/FakeNewsDataset/multimodal_only_samples/images/test/true/\")\n",
    "files_testf=os.listdir(\"/Users/prashantwaghela/Desktop/FakeNewsDataset/multimodal_only_samples/images/test/fake/\")\n",
    "files_traint=os.listdir(\"/Users/prashantwaghela/Desktop/FakeNewsDataset/multimodal_only_samples/images/train/true/\")\n",
    "files_trainf=os.listdir(\"/Users/prashantwaghela/Desktop/FakeNewsDataset/multimodal_only_samples/images/train/fake/\")\n",
    "\n",
    "extensions=['jpg','jpeg','JPEG']\n",
    "for i in files_testt:\n",
    "    ext=i.split('.')[-1]\n",
    "    if ext in extensions:\n",
    "        im=Image.open(\"/Users/prashantwaghela/Desktop/FakeNewsDataset/multimodal_only_samples/images/test/true/\"+ i)\n",
    "        im_resized=im.resize((200,200))\n",
    "        filepath=\"/Users/prashantwaghela/Desktop/FakeNewsDataset/multimodal_only_samples/images_resized/test_resized/true_resized/\" + i\n",
    "        im_resized.convert('RGB').save(filepath)\n",
    "        \n",
    "    "
   ]
  },
  {
   "cell_type": "code",
   "execution_count": 13,
   "id": "337cafd3",
   "metadata": {},
   "outputs": [],
   "source": [
    "for i in files_testf:\n",
    "    ext=i.split('.')[-1]\n",
    "    if ext in extensions:\n",
    "        im=Image.open(\"/Users/prashantwaghela/Desktop/FakeNewsDataset/multimodal_only_samples/images/test/fake/\"+ i)\n",
    "        im_resized=im.resize((200,200))\n",
    "        filepath=\"/Users/prashantwaghela/Desktop/FakeNewsDataset/multimodal_only_samples/images_resized/test_resized/fake_resized/\" + i\n",
    "        im_resized.convert('RGB').save(filepath)"
   ]
  },
  {
   "cell_type": "code",
   "execution_count": 5,
   "id": "85555d98",
   "metadata": {},
   "outputs": [],
   "source": [
    "for i in files_traint:\n",
    "    ext=i.split('.')[-1]\n",
    "    if ext in extensions:\n",
    "        im=Image.open(\"/Users/prashantwaghela/Desktop/FakeNewsDataset/multimodal_only_samples/images/train/true/\"+ i)\n",
    "        im_resized=im.resize((200,200))\n",
    "        filepath=\"/Users/prashantwaghela/Desktop/FakeNewsDataset/multimodal_only_samples/images_resized/train_resized/true_resized/\" + i\n",
    "        im_resized.convert('RGB').save(filepath)"
   ]
  },
  {
   "cell_type": "code",
   "execution_count": 20,
   "id": "5742d2d2",
   "metadata": {},
   "outputs": [],
   "source": [
    "for i in files_trainf:\n",
    "    ext=i.split('.')[-1]\n",
    "    if ext in extensions:\n",
    "        im=Image.open(\"/Users/prashantwaghela/Desktop/FakeNewsDataset/multimodal_only_samples/images/train/fake/\"+ i)\n",
    "        im_resized=im.resize((200,200))\n",
    "        filepath=\"/Users/prashantwaghela/Desktop/FakeNewsDataset/multimodal_only_samples/images_resized/train_resized/fake_resized/\" + i\n",
    "        im_resized.convert('RGB').save(filepath)"
   ]
  }
 ],
 "metadata": {
  "kernelspec": {
   "display_name": "Python 3 (ipykernel)",
   "language": "python",
   "name": "python3"
  },
  "language_info": {
   "codemirror_mode": {
    "name": "ipython",
    "version": 3
   },
   "file_extension": ".py",
   "mimetype": "text/x-python",
   "name": "python",
   "nbconvert_exporter": "python",
   "pygments_lexer": "ipython3",
   "version": "3.8.8"
  }
 },
 "nbformat": 4,
 "nbformat_minor": 5
}
